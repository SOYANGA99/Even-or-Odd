{
 "cells": [
  {
   "cell_type": "code",
   "execution_count": 5,
   "id": "f184c654",
   "metadata": {},
   "outputs": [
    {
     "name": "stdout",
     "output_type": "stream",
     "text": [
      "Input a no:-85\n",
      "No Is Odd\n"
     ]
    }
   ],
   "source": [
    "no= int(input(\"Input a no:-\"))\n",
    "if(no%2==0):\n",
    "    print(\"No Is Even\")\n",
    "else:\n",
    "    print(\"No Is Odd\")"
   ]
  },
  {
   "cell_type": "code",
   "execution_count": null,
   "id": "6badbdc9",
   "metadata": {},
   "outputs": [],
   "source": []
  }
 ],
 "metadata": {
  "kernelspec": {
   "display_name": "Python 3 (ipykernel)",
   "language": "python",
   "name": "python3"
  },
  "language_info": {
   "codemirror_mode": {
    "name": "ipython",
    "version": 3
   },
   "file_extension": ".py",
   "mimetype": "text/x-python",
   "name": "python",
   "nbconvert_exporter": "python",
   "pygments_lexer": "ipython3",
   "version": "3.9.7"
  }
 },
 "nbformat": 4,
 "nbformat_minor": 5
}
